{
 "cells": [
  {
   "cell_type": "code",
   "execution_count": null,
   "metadata": {
    "collapsed": false
   },
   "outputs": [],
   "source": [
    "import numpy as np\n",
    "import pandas as pd\n",
    "import sys\n",
    "import os\n",
    "import matplotlib.pyplot\n",
    "import glob\n",
    "%matplotlib inline\n",
    "import seaborn as sns\n",
    "sns.set(rc={\"figure.figsize\": (8, 8)})"
   ]
  },
  {
   "cell_type": "code",
   "execution_count": null,
   "metadata": {
    "collapsed": false
   },
   "outputs": [],
   "source": [
    "# %load label_copy.py\n",
    "import scipy as sp\n",
    "from scipy import ndimage\n",
    "import pylab as pl\n",
    "from skimage import filters\n",
    "\n",
    "\n",
    "PLOT = False\n",
    "\n",
    "\n",
    "def rebin(arr, new_shape):\n",
    "    \"\"\"Rebin 2D array arr to shape new_shape by averaging.\"\"\"\n",
    "    shape = (new_shape[0], arr.shape[0] // new_shape[0],\n",
    "             new_shape[1], arr.shape[1] // new_shape[1])\n",
    "    return arr.reshape(shape).mean(-1).mean(1)\n",
    "\n",
    "def getregion(img):\n",
    "\n",
    "    tmp2 = rebin(img, (img.shape[0]/4, img.shape[1]/4))\n",
    "\n",
    "    imgtmp = tmp2.copy()\n",
    "    imgtmp[tmp2<np.mean(tmp2) + 2.*np.var(tmp2)]=0\n",
    "    imgtmp[imgtmp>0]=1\n",
    "    \n",
    "\n",
    "    labels, n_features = ndimage.measurements.label(imgtmp)\n",
    "    labelsize = np.array([(labels==i).sum() for i in range(labels.max()+1)])\n",
    "    #labtmp = {}\n",
    "    #for i in range(labels.max()+1):\n",
    "    #    labtmp[i] = labelsize[i]\n",
    "\n",
    "    #zeros = np.zeros_like(imgtmp.flatten())\n",
    "    labs = np.unique(labelsize)\n",
    "    labdiff = np.diff(np.unique(labelsize))\n",
    "    \n",
    "    print len(labs),\",\",np.max(labdiff[:-1]),',',(labdiff>=50).sum(),',',n_features,',', np.mean(labdiff[:-1]),',',np.max(labdiff)\n",
    "    return len(labs),np.max(labdiff[:-1]),(labdiff>=50).sum(),n_features, np.mean(labdiff[:-1])\n",
    "    #for i,z in enumerate(labels.flat):\n",
    "    #    if (labtmp[z]>20) * (labtmp[z]<1000) : \n",
    "            #print (labtmp[z])\n",
    "    #       zeros[i]=labtmp[z]\n",
    "\n",
    "    \n",
    "if __name__ == '__main__':\n",
    "    plot = PLOT\n",
    "    plumes = os.getenv('PLUMES_DATA')\n",
    "    imgpath = os.path.join(plumes,'outputs/tmp_0*_median.npy')\n",
    "    tmp = np.sort(glob.glob(imgpath))\n",
    "\n",
    "    for t in tmp:\n",
    "        print t[68:],\",\",\n",
    "        try:\n",
    "            img = np.load(t)[200:1300,:,:].mean(-1)\n",
    "        except:\n",
    "            pass\n",
    "            \n",
    "        getregion(img)\n",
    "       \n",
    "    \n"
   ]
  },
  {
   "cell_type": "code",
   "execution_count": 1308,
   "metadata": {
    "collapsed": false
   },
   "outputs": [],
   "source": [
    "# %load read_and_roll.py\n",
    "import scipy as sp\n",
    "import numpy as np\n",
    "import pandas as pd\n",
    "from scipy import ndimage\n",
    "import matplotlib.pyplot as plt\n",
    "import seaborn as sns\n",
    "import sys\n",
    "sns.set()\n",
    "\n",
    "\n",
    "\n",
    "def read_and_plot(file_path, plot = False):\n",
    "    \"\"\"\n",
    "    Take csv, clean it and plot all its features as subplots.\n",
    "    Input is a data frame\n",
    "    Return a Pandas Dataframe and the plot with plumes highlighted\n",
    "    As default, no plot is generated, only the dataframe is returned\n",
    "    \"\"\"\n",
    "    col_names = ['image', 'n_patches','2nd_largest_patch','patch_50+_pix','n_features','mean_patch_size', 'largest_patch']\n",
    "    df = pd.read_csv(file_path, header = None, names=col_names)\n",
    "    df.loc[:,'image'] = np.array([int(l[12:16].strip().split()[0]) for l in df.loc[:,'image']])\n",
    "    df.index = df.image\n",
    "    df.drop('image', axis = 1, inplace = True)\n",
    "\n",
    "    if plot:\n",
    "        ax = df.plot(subplots = True,figsize = (8,8), title = str(data_csv))\n",
    "        df.iloc[135:155,:].plot(subplots = True, ax = ax, color = 'k', legend = False)\n",
    "        plt.savefig(str.join(data_csv,'.pdf'))\n",
    "        plt.show()\n",
    "    \n",
    "    return df\n",
    "\n",
    "def roll_and_plot(data_column, window = 100, plot = False, table = False):\n",
    "    \"\"\"\n",
    "    Calculate and plot the rolling mean and rolling standard deviation for given dataframe.\n",
    "    Input for column and datafile should be a string object.\n",
    "    Return: Rolling mean and std table and plot saved as a pdf\n",
    "    Default value for the window is 100.\n",
    "    Plot is returned as default.\n",
    "    Set table=True to get the rolling data frame\n",
    "    \"\"\"\n",
    "    \n",
    "    unsmooth = data_column\n",
    "\n",
    "    smooth = unsmooth.rolling(window = window, center = True, axis = 0).mean()\n",
    "    smooth_sd = unsmooth.rolling(window = window, center = True, axis = 0).std()\n",
    "    final = pd.DataFrame({'unsmooth':unsmooth, 'smooth':smooth, 'smooth_std':smooth_sd})\n",
    "    \n",
    "    if plot:\n",
    "        ax = final.unsmooth.plot(figsize = (8,8), linestyle = 'none', marker = '.')\n",
    "        final.unsmooth[135:155].plot(ax = ax, marker = '.', linestyle = 'none', c = 'y')\n",
    "        \n",
    "        final[['smooth', 'smooth_std']].plot(ax = ax)\n",
    "        \n",
    "        plt.title(str(' Rolling window' + window + 'images'), size = 15)\n",
    "        plt.legend(['Images', 'Mean','St Dev', 'Plumes'], loc = 2)\n",
    "        plt.ylabel(str(data_column.name + ' (Pixels)'), size = 13)\n",
    "        plt.xlabel('Image', size = 13)\n",
    "        plt.show()\n",
    "        plt.savefig(str(data_column.name + '_roll.pdf'))\n",
    "    \n",
    "    if table:  \n",
    "        return final\n",
    "    \n",
    "def smooth(x,window_len=11,window='hanning'):\n",
    "    \"\"\"smooth the data using a window with requested size.\n",
    "    \n",
    "    This method is based on the convolution of a scaled window with the signal.\n",
    "    The signal is prepared by introducing reflected copies of the signal \n",
    "    (with the window size) in both ends so that transient parts are minimized\n",
    "    in the begining and end part of the output signal.\n",
    "    \n",
    "    input:\n",
    "        x: the input signal \n",
    "        window_len: the dimension of the smoothing window; should be an odd integer\n",
    "        window: the type of window from 'flat', 'hanning', 'hamming', 'bartlett', 'blackman'\n",
    "            flat window will produce a moving average smoothing.\n",
    "\n",
    "    output:\n",
    "        the smoothed signal\n",
    "        \n",
    "    example:\n",
    "\n",
    "    t=linspace(-2,2,0.1)\n",
    "    x=sin(t)+randn(len(t))*0.1\n",
    "    y=smooth(x)\n",
    "    \n",
    "    see also: \n",
    "    \n",
    "    numpy.hanning, numpy.hamming, numpy.bartlett, numpy.blackman, numpy.convolve\n",
    "    scipy.signal.lfilter\n",
    " \n",
    "    TODO: the window parameter could be the window itself if an array instead of a string\n",
    "    NOTE: length(output) != length(input), to correct this: return y[(window_len/2-1):-(window_len/2)] instead of just y.\n",
    "    \"\"\"\n",
    "\n",
    "    if x.ndim != 1:\n",
    "        raise ValueError, \"smooth only accepts 1 dimension arrays.\"\n",
    "\n",
    "    if x.size < window_len:\n",
    "        raise ValueError, \"Input vector needs to be bigger than window size.\"\n",
    "\n",
    "\n",
    "    if window_len<3:\n",
    "        return x\n",
    "\n",
    "\n",
    "    if not window in ['flat', 'hanning', 'hamming', 'bartlett', 'blackman']:\n",
    "        raise ValueError, \"Window is on of 'flat', 'hanning', 'hamming', 'bartlett', 'blackman'\"\n",
    "\n",
    "\n",
    "    s=numpy.r_[x[window_len-1:0:-1],x,x[-2:-window_len-1:-1]]\n",
    "    #print(len(s))\n",
    "    if window == 'flat': #moving average\n",
    "        w=numpy.ones(window_len,'d')\n",
    "    else:\n",
    "        w=eval('numpy.'+window+'(window_len)')\n",
    "\n",
    "    y=numpy.convolve(w/w.sum(),s,mode='valid')\n",
    "    return y    \n",
    "#if __name__ == '__main__':\n",
    "    \n",
    "#    df = read_and_plot(sys.argv[1], plot = False)\n",
    "#    column = df[sys.argv[2]]\n",
    "#    roll_and_plot(column, plot = True)\n",
    "    \n",
    "    \n"
   ]
  },
  {
   "cell_type": "code",
   "execution_count": null,
   "metadata": {
    "collapsed": false
   },
   "outputs": [],
   "source": [
    "#import matplotlib.pyplot as plt\n",
    "home = os.getenv('HOME') #Ilan's home directory\n",
    "plumes = os.getenv('PLUMES') #plumes data\n",
    "cuip = os.getenv('CUIP')\n",
    "csvs = 'output_csvs'"
   ]
  },
  {
   "cell_type": "markdown",
   "metadata": {},
   "source": [
    "# Load the images\n",
    "\n",
    "Once the images are loaded and saved into a text file they are ready to be plotted using the function read_and:plot as shown below for various cases."
   ]
  },
  {
   "cell_type": "code",
   "execution_count": null,
   "metadata": {
    "collapsed": false,
    "scrolled": true
   },
   "outputs": [],
   "source": [
    "imgpath1 =  os.path.join(plumes,'outputs/tmp_*_median.npy')\n",
    "#imgpath2 =  os.path.join(plumes,'outputs/tmp_01[345][0-9]_mindif.npy')\n",
    "\n",
    "#print imgpath\n",
    "imglist1 = sorted(glob.glob(imgpath1))\n",
    "#imglist2 = sorted(glob.glob(imgpath2))\n",
    "        \n",
    "#print imglist\n",
    "nimgs = len(imglist1)\n",
    "\n",
    "#empty array to catch read images\n",
    "#imgs = np.zeros((nimgs, 1300, 4096))\n",
    "    \n",
    "#imgs_min = np.zeros((nimgs, 1300, 4096))\n",
    "\n",
    "\n",
    "for i,f in enumerate(imglist1):\n",
    "    #print(f)\n",
    "    imgs[i] = np.load(f)[200:1500,:,:].mean(-1)\n",
    "    print f[68:],\",\",\n",
    "    \n",
    "    getregion(imgs[i])\n",
    "    \n",
    "#for i,f in enumerate(imglist2):\n",
    "    #print(f)\n",
    "    #imgs_min[i] = np.load(f)[200:1500,:,:].mean(-1)"
   ]
  },
  {
   "cell_type": "code",
   "execution_count": 1303,
   "metadata": {
    "collapsed": false
   },
   "outputs": [
    {
     "data": {
      "text/html": [
       "<div>\n",
       "<table border=\"1\" class=\"dataframe\">\n",
       "  <thead>\n",
       "    <tr style=\"text-align: right;\">\n",
       "      <th></th>\n",
       "      <th>n_patches</th>\n",
       "      <th>2nd_largest_patch</th>\n",
       "      <th>patch_50+_pix</th>\n",
       "      <th>n_features</th>\n",
       "      <th>mean_patch_size</th>\n",
       "      <th>largest_patch</th>\n",
       "    </tr>\n",
       "    <tr>\n",
       "      <th>image</th>\n",
       "      <th></th>\n",
       "      <th></th>\n",
       "      <th></th>\n",
       "      <th></th>\n",
       "      <th></th>\n",
       "      <th></th>\n",
       "    </tr>\n",
       "  </thead>\n",
       "  <tbody>\n",
       "    <tr>\n",
       "      <th>5</th>\n",
       "      <td>25</td>\n",
       "      <td>4</td>\n",
       "      <td>1</td>\n",
       "      <td>1628</td>\n",
       "      <td>1.304348</td>\n",
       "      <td>278212</td>\n",
       "    </tr>\n",
       "    <tr>\n",
       "      <th>6</th>\n",
       "      <td>17</td>\n",
       "      <td>3</td>\n",
       "      <td>1</td>\n",
       "      <td>1678</td>\n",
       "      <td>1.200000</td>\n",
       "      <td>278897</td>\n",
       "    </tr>\n",
       "    <tr>\n",
       "      <th>7</th>\n",
       "      <td>33</td>\n",
       "      <td>14</td>\n",
       "      <td>1</td>\n",
       "      <td>2033</td>\n",
       "      <td>1.580645</td>\n",
       "      <td>276251</td>\n",
       "    </tr>\n",
       "    <tr>\n",
       "      <th>8</th>\n",
       "      <td>17</td>\n",
       "      <td>30</td>\n",
       "      <td>1</td>\n",
       "      <td>1622</td>\n",
       "      <td>4.133333</td>\n",
       "      <td>278947</td>\n",
       "    </tr>\n",
       "    <tr>\n",
       "      <th>9</th>\n",
       "      <td>27</td>\n",
       "      <td>24</td>\n",
       "      <td>1</td>\n",
       "      <td>1539</td>\n",
       "      <td>2.240000</td>\n",
       "      <td>278553</td>\n",
       "    </tr>\n",
       "  </tbody>\n",
       "</table>\n",
       "</div>"
      ],
      "text/plain": [
       "       n_patches  2nd_largest_patch  patch_50+_pix  n_features  \\\n",
       "image                                                            \n",
       "5             25                  4              1        1628   \n",
       "6             17                  3              1        1678   \n",
       "7             33                 14              1        2033   \n",
       "8             17                 30              1        1622   \n",
       "9             27                 24              1        1539   \n",
       "\n",
       "       mean_patch_size  largest_patch  \n",
       "image                                  \n",
       "5             1.304348         278212  \n",
       "6             1.200000         278897  \n",
       "7             1.580645         276251  \n",
       "8             4.133333         278947  \n",
       "9             2.240000         278553  "
      ]
     },
     "execution_count": 1303,
     "metadata": {},
     "output_type": "execute_result"
    }
   ],
   "source": [
    "df = read_and_plot('output_csvs/m3sd', plot = False)\n",
    "df.head()"
   ]
  },
  {
   "cell_type": "code",
   "execution_count": 1336,
   "metadata": {
    "collapsed": false
   },
   "outputs": [
    {
     "data": {
      "image/png": "[encoded data removed]",
      "text/plain": [
       "<matplotlib.figure.Figure at 0x7fe3fb874410>"
      ]
     },
     "metadata": {},
     "output_type": "display_data"
    }
   ],
   "source": [
    "unsmooth = df['2nd_largest_patch']\n",
    "\n",
    "smooth = unsmooth.rolling(window = 50, center = True, axis = 0).mean()\n",
    "smooth_sd = unsmooth.rolling(window = 50, center = True, axis = 0).std()\n",
    "\n",
    "final = pd.DataFrame({'unsmooth':unsmooth, 'smooth':smooth, 'smooth_std':smooth_sd})\n",
    "    \n",
    "ax = final.unsmooth.plot(figsize = (8,8), linestyle = 'none', marker = '.')\n",
    "final.unsmooth[135:155].plot(ax = ax, marker = '.', linestyle = 'none', c = 'y')\n",
    "       \n",
    "final[['smooth', 'smooth_std']].plot(ax = ax)\n",
    "        \n",
    "plt.title('Mean Patch Size, Rolling window of 50 images', size = 15)\n",
    "plt.legend(['Images', 'Plumes', 'Mean','St Dev'], loc = 2)\n",
    "plt.ylabel('Pixels', size = 13)\n",
    "plt.xlabel('Image', size = 13)\n",
    "plt.savefig('output_imgs/m3sd_w50_patchsize_roll.pdf')"
   ]
  },
  {
   "cell_type": "code",
   "execution_count": 1339,
   "metadata": {
    "collapsed": false
   },
   "outputs": [
    {
     "ename": "TypeError",
     "evalue": "'Series' object is not callable",
     "output_type": "error",
     "traceback": [
      "\u001b[0;31m\u001b[0m",
      "\u001b[0;31mTypeError\u001b[0mTraceback (most recent call last)",
      "\u001b[0;32m<ipython-input-1339-8453f4bac599>\u001b[0m in \u001b[0;36m<module>\u001b[0;34m()\u001b[0m\n\u001b[0;32m----> 1\u001b[0;31m \u001b[0my_smooth\u001b[0m \u001b[0;34m=\u001b[0m \u001b[0msmooth\u001b[0m\u001b[0;34m(\u001b[0m\u001b[0munsmooth\u001b[0m\u001b[0;34m.\u001b[0m\u001b[0mvalues\u001b[0m\u001b[0;34m)\u001b[0m\u001b[0;34m\u001b[0m\u001b[0m\n\u001b[0m\u001b[1;32m      2\u001b[0m \u001b[0;31m#y_smooth.mean()\u001b[0m\u001b[0;34m\u001b[0m\u001b[0;34m\u001b[0m\u001b[0m\n",
      "\u001b[0;31mTypeError\u001b[0m: 'Series' object is not callable"
     ]
    }
   ],
   "source": [
    "y_smooth = smooth(unsmooth.values)\n",
    "#y_smooth.mean()"
   ]
  },
  {
   "cell_type": "code",
   "execution_count": null,
   "metadata": {
    "collapsed": false
   },
   "outputs": [],
   "source": [
    "#unsmooth2 = df['mean_patch_size']\n",
    "#smooth2 = unsmooth2.rolling(window = 100, center = False, axis = 0).mean()\n",
    "#smooth2_std = unsmooth2.rolling(window = 100, center = False, axis = 0).std()\n",
    "#final2 = pd.DataFrame({'unsmooth':unsmooth2, 'smooth':smooth2, 'smooth_std':smooth2_std})\n",
    "#ax2 = final2.unsmooth.plot(figsize = (8,8), linestyle = 'none', marker = '.')\n",
    "#final2[['smooth', 'smooth_std']].plot(ax = ax2)\n",
    "#final2.unsmooth[135:155].plot(ax = ax2, marker = '.', linestyle = 'none', c = 'y')\n",
    "\n",
    "#plt.title('Mean Patch Size, Rolling Window 100 images', size = 15)\n",
    "#plt.ylabel('Mean Number of pixels', size = 13)\n",
    "#plt.xlabel('Image', size = 13)\n",
    "#plt.legend(['Images', 'Mean', 'St Dev', 'Plumes'], loc = 2)\n",
    "#plt.savefig('rmean2_m5sd.pdf')"
   ]
  },
  {
   "cell_type": "code",
   "execution_count": 1300,
   "metadata": {
    "collapsed": false
   },
   "outputs": [
    {
     "ename": "TypeError",
     "evalue": "roll_and_plot() got multiple values for keyword argument 'window'",
     "output_type": "error",
     "traceback": [
      "\u001b[0;31m\u001b[0m",
      "\u001b[0;31mTypeError\u001b[0mTraceback (most recent call last)",
      "\u001b[0;32m<ipython-input-1300-13d7fa1cbc35>\u001b[0m in \u001b[0;36m<module>\u001b[0;34m()\u001b[0m\n\u001b[0;32m----> 1\u001b[0;31m \u001b[0mroll_and_plot\u001b[0m\u001b[0;34m(\u001b[0m\u001b[0;34m'output_csvs/m3sd'\u001b[0m\u001b[0;34m,\u001b[0m\u001b[0;34m'mean_patch_size'\u001b[0m\u001b[0;34m,\u001b[0m \u001b[0mplot\u001b[0m \u001b[0;34m=\u001b[0m \u001b[0mTrue\u001b[0m\u001b[0;34m,\u001b[0m \u001b[0mwindow\u001b[0m \u001b[0;34m=\u001b[0m \u001b[0;36m5\u001b[0m\u001b[0;34m)\u001b[0m\u001b[0;34m\u001b[0m\u001b[0m\n\u001b[0m",
      "\u001b[0;31mTypeError\u001b[0m: roll_and_plot() got multiple values for keyword argument 'window'"
     ]
    }
   ],
   "source": [
    "roll_and_plot('output_csvs/m3sd','mean_patch_size', plot = True, window = 5)"
   ]
  },
  {
   "cell_type": "code",
   "execution_count": null,
   "metadata": {
    "collapsed": false
   },
   "outputs": [],
   "source": [
    "roll_and_plot('m3sd','2nd_largest_patch', plot = True)"
   ]
  },
  {
   "cell_type": "code",
   "execution_count": null,
   "metadata": {
    "collapsed": false
   },
   "outputs": [],
   "source": [
    "hist(tmp2.flatten(), normed = True, log = True)\n",
    "axvline(np.mean(tmp2) + 4.*np.std(tmp2), c = 'r')"
   ]
  },
  {
   "cell_type": "code",
   "execution_count": null,
   "metadata": {
    "collapsed": false,
    "scrolled": true
   },
   "outputs": [],
   "source": [
    "#ls1 = tmp.iloc[0,135:155]\n",
    "#ls2 = tmp.iloc[1,135:155]\n",
    "#ls3 = tmp.iloc[2,135:155]\n",
    "#ls4 = tmp.iloc[3,135:155]\n",
    "#ls5 = tmp.iloc[4,135:155]\n",
    "#ls6 = tmp.iloc[5,135:155]\n",
    "    \n",
    "#tmp_2 = [ls1,ls2,ls3,ls4,ls5,ls6]\n",
    "#plumes = pd.DataFrame(tmp)\n",
    "##plumes.head()"
   ]
  },
  {
   "cell_type": "code",
   "execution_count": null,
   "metadata": {
    "collapsed": false
   },
   "outputs": [],
   "source": [
    "#tmp2 = rebin(imgs[140], (imgs[139].shape[0]/4, imgs[139].shape[1]/4))\n",
    "\n",
    "#imgtmp = tmp2.copy()\n",
    "\n",
    "\n",
    "#imgtmp[tmp2<np.mean(tmp2) + 5.*np.std(tmp2)]=0\n",
    "#imgtmp[imgtmp>0]=1\n",
    "\n",
    "#labels, n_features = ndimage.measurements.label(imgtmp)\n",
    "\n",
    "#labelsize = np.array([(labels==i).sum() for i in range(labels.max()+1)])\n",
    "\n",
    "#labs = np.unique(labelsize)\n",
    "#labdiff = np.diff(labs)\n",
    "\n",
    "#print len(labs),\",\",np.max(labdiff),',',(labdiff>=50).sum(),',',n_features,',', np.mean(labdiff[:-1])"
   ]
  },
  {
   "cell_type": "code",
   "execution_count": null,
   "metadata": {
    "collapsed": false
   },
   "outputs": [],
   "source": [
    "# filter the images based on log-histogram. \n",
    "\n",
    "#from skimage import color\n",
    "\n",
    "#th = 10  #7, 10\n",
    "#for i in range(nimgs):\n",
    "    #img_filt[i][img_filt[i] < th] = 0.0\n",
    "#    imgbw[i] = color.rgb2gray(img_tmp[i]) #set images to grayscale"
   ]
  },
  {
   "cell_type": "code",
   "execution_count": null,
   "metadata": {
    "collapsed": false
   },
   "outputs": [],
   "source": [
    "#First plot of image with plume as example\n",
    "#fig = figure(figsize = (13,11))\n",
    "#imshow(imbin[140], cmap = 'viridis')\n",
    "#axis('off')\n",
    "#grid(False)"
   ]
  },
  {
   "cell_type": "markdown",
   "metadata": {},
   "source": [
    "## Zoom into the different plumes and create histograms to see the behaviour"
   ]
  },
  {
   "cell_type": "code",
   "execution_count": null,
   "metadata": {
    "collapsed": false
   },
   "outputs": [],
   "source": [
    "#Zoom into the plume to see how well defined it is after filtering\n",
    "#imshow(imgbw[1], cmap = 'viridis')"
   ]
  },
  {
   "cell_type": "code",
   "execution_count": null,
   "metadata": {
    "collapsed": false
   },
   "outputs": [],
   "source": [
    "#Histogram of the zoomed area\n",
    "#hist(imgbw[12,800:900, 2000:2200].flatten(), log = True)\n",
    "#hist(imgbw[12,810:865, 2000:2075].flatten(), alpha = 0.6)"
   ]
  },
  {
   "cell_type": "code",
   "execution_count": null,
   "metadata": {
    "collapsed": false
   },
   "outputs": [],
   "source": [
    "#imshow(imgbw[16,590:750, 1950:2050], cmap = 'viridis')"
   ]
  },
  {
   "cell_type": "code",
   "execution_count": null,
   "metadata": {
    "collapsed": false
   },
   "outputs": [],
   "source": [
    "#hist(imgbw[16,590:750, 1950:2050].flatten(), log = True)"
   ]
  },
  {
   "cell_type": "code",
   "execution_count": null,
   "metadata": {
    "collapsed": false
   },
   "outputs": [],
   "source": [
    "#imshow(img_filt[17,400:800, 1700:2200], cmap = 'viridis')"
   ]
  },
  {
   "cell_type": "code",
   "execution_count": null,
   "metadata": {
    "collapsed": false
   },
   "outputs": [],
   "source": [
    "#hist(img_filt[17,400:800, 1700:2200].flatten(), log = True)"
   ]
  },
  {
   "cell_type": "code",
   "execution_count": null,
   "metadata": {
    "collapsed": false
   },
   "outputs": [],
   "source": [
    "#imshow(img_filt[18,400:650, 2000:2300], cmap = 'viridis')"
   ]
  },
  {
   "cell_type": "code",
   "execution_count": null,
   "metadata": {
    "collapsed": false
   },
   "outputs": [],
   "source": [
    "#hist(img_filt[18,400:650, 2000:2300].flatten())"
   ]
  },
  {
   "cell_type": "code",
   "execution_count": null,
   "metadata": {
    "collapsed": false
   },
   "outputs": [],
   "source": [
    "#imshow(img_filt[19,200:600, 2000:2500], cmap = 'viridis')"
   ]
  },
  {
   "cell_type": "code",
   "execution_count": null,
   "metadata": {
    "collapsed": false
   },
   "outputs": [],
   "source": [
    "#hist(img_filt[19,200:600, 2000:2500].flatten(), log = True)"
   ]
  },
  {
   "cell_type": "code",
   "execution_count": null,
   "metadata": {
    "collapsed": false
   },
   "outputs": [],
   "source": [
    "#imshow(img_filt[20,200:500, 2300:2700], cmap = 'viridis')"
   ]
  },
  {
   "cell_type": "code",
   "execution_count": null,
   "metadata": {
    "collapsed": false
   },
   "outputs": [],
   "source": [
    "#hist(img_filt[20,200:500, 2300:2700].flatten(), log = True)"
   ]
  },
  {
   "cell_type": "code",
   "execution_count": null,
   "metadata": {
    "collapsed": false
   },
   "outputs": [],
   "source": [
    "#BINS = 50#int(round(2*len(img_med[0].flatten())**(1./3.)))\n",
    "#y_md = np.zeros((nimgs, BINS))\n",
    "#y_mn = np.zeros((nimgs, BINS))\n",
    "#x = np.zeros(BINS)\n",
    "#patches = np.zeros(BINS) #third element of histogram tuple NOT USED\n",
    "\n",
    "\n",
    "#for i in range(nimgs):    \n",
    "    #y_md[i], x, patches = plt.hist(img_tmp[i].flatten(), bins = BINS, log = True)\n",
    "    #y_mn[i] = plt.hist(imgs_min[i].flatten(), bins = BINS, log = True)[0]"
   ]
  },
  {
   "cell_type": "code",
   "execution_count": null,
   "metadata": {
    "collapsed": false
   },
   "outputs": [],
   "source": [
    "#ymd_log = np.log10(y_md)"
   ]
  },
  {
   "cell_type": "code",
   "execution_count": null,
   "metadata": {
    "collapsed": true
   },
   "outputs": [],
   "source": [
    "#ymd_log[np.isinf(ymd_log)] = 0.0"
   ]
  },
  {
   "cell_type": "code",
   "execution_count": null,
   "metadata": {
    "collapsed": true
   },
   "outputs": [],
   "source": [
    "#bins_cen = x[:-1] + 0.5*(x[1]-x[0])"
   ]
  },
  {
   "cell_type": "code",
   "execution_count": null,
   "metadata": {
    "collapsed": false
   },
   "outputs": [],
   "source": [
    "#cols = ['img%d'%(i) for i in range(nimgs)]\n",
    "\n",
    "#median_data = pd.DataFrame(ymd_log.T, columns = cols)\n",
    "#median_data.insert(0, 'X', bins_cen)"
   ]
  },
  {
   "cell_type": "markdown",
   "metadata": {},
   "source": [
    "## Histogram of oriented gradients\n",
    "\n",
    "Documentation: http://scikit-image.org/docs/dev/auto_examples/features_detection/plot_hog.html\n"
   ]
  },
  {
   "cell_type": "code",
   "execution_count": null,
   "metadata": {
    "collapsed": false
   },
   "outputs": [],
   "source": [
    "\n",
    "#from skimage.feature import hog\n",
    "\n",
    "#test, hogimg = hog(imgbw[15], orientations = 10, pixels_per_cell=(16, 16), \n",
    " #                  cells_per_block=(4,4), visualise=True, block_norm='L1')"
   ]
  },
  {
   "cell_type": "code",
   "execution_count": null,
   "metadata": {
    "collapsed": false
   },
   "outputs": [],
   "source": [
    "#figure(figsize = (12, 10))\n",
    "#imshow(hogimg, cmap = 'viridis')\n",
    "#grid(False)"
   ]
  },
  {
   "cell_type": "code",
   "execution_count": null,
   "metadata": {
    "collapsed": false,
    "scrolled": true
   },
   "outputs": [],
   "source": [
    "#imshow(hogimg[580:780, 1800:2200], cmap = 'viridis')\n",
    "#grid(False)"
   ]
  },
  {
   "cell_type": "markdown",
   "metadata": {},
   "source": [
    "## Sobel filtering to detect edges of plumes"
   ]
  },
  {
   "cell_type": "code",
   "execution_count": null,
   "metadata": {
    "collapsed": true
   },
   "outputs": [],
   "source": [
    "from skimage import filters\n",
    "#edg1 = filters.sobel(imgbw[15])"
   ]
  },
  {
   "cell_type": "code",
   "execution_count": null,
   "metadata": {
    "collapsed": false
   },
   "outputs": [],
   "source": [
    "#figure(figsize = (12, 10))\n",
    "#imshow(edg1, cmap = 'viridis')\n",
    "#grid(False)"
   ]
  },
  {
   "cell_type": "code",
   "execution_count": null,
   "metadata": {
    "collapsed": false
   },
   "outputs": [],
   "source": [
    "#imshow(edg1[580:780, 1800:2200], cmap = 'viridis')"
   ]
  },
  {
   "cell_type": "code",
   "execution_count": null,
   "metadata": {
    "collapsed": false
   },
   "outputs": [],
   "source": [
    "#hist(edg1.flatten(), log = True)"
   ]
  },
  {
   "cell_type": "code",
   "execution_count": null,
   "metadata": {
    "collapsed": false
   },
   "outputs": [],
   "source": [
    "#edges = np.empty_like(imgbw)\n",
    "#for i in range(nimgs):\n",
    "#    edges[i] = filters.sobel(imgbw[i])\n"
   ]
  },
  {
   "cell_type": "markdown",
   "metadata": {},
   "source": [
    "Making binary images based on filtering the brightness differences."
   ]
  },
  {
   "cell_type": "code",
   "execution_count": null,
   "metadata": {
    "collapsed": false
   },
   "outputs": [],
   "source": [
    "#label = np.zeros(nimgs)\n",
    "#imbin = np.empty_like(imgbw)\n",
    "#imvar = np.zeros(nimgs)\n",
    "#for i in range(nimgs):\n",
    "#    imbin[i] = np.where(imgbw[i] > 10, 1.0, 0.0)\n",
    "#    imvar[i] = imbin[i].sum()\n",
    "#    if imvar[i] > 1877 and imvar[i] < 40000:\n",
    "#        label[i] = 1.\n",
    "    #print i, imvar[i]"
   ]
  },
  {
   "cell_type": "code",
   "execution_count": null,
   "metadata": {
    "collapsed": false
   },
   "outputs": [],
   "source": [
    "#figure(figsize = (12, 12))\n",
    "#imshow(imbin[141], cmap = 'viridis')\n",
    "#title('Block Image with plume', size = 14)\n",
    "#axis('off')\n",
    "#grid(False)\n"
   ]
  },
  {
   "cell_type": "code",
   "execution_count": null,
   "metadata": {
    "collapsed": false
   },
   "outputs": [],
   "source": [
    "#label"
   ]
  },
  {
   "cell_type": "code",
   "execution_count": null,
   "metadata": {
    "collapsed": false
   },
   "outputs": [],
   "source": [
    "#blk = np.zeros((nimgs, 50, 128))\n",
    "#lbl = np.zeros(nimgs)\n",
    "#for k in range(nimgs):\n",
    "#    for i, x in enumerate(xrange(0,imbin[k].shape[0],26)):\n",
    "#        for j, y in enumerate(xrange(0,imbin[k].shape[1],32)):\n",
    "#            view = imbin[k,x:x+26, y:y+32]\n",
    "#            blk[k,i,j] = np.where(view.sum() > 130, 1., 0.)\n",
    "#            if blk[k].sum() >= 2. and blk[k].sum() < 30:\n",
    "#                lbl[k] = 1."
   ]
  },
  {
   "cell_type": "code",
   "execution_count": null,
   "metadata": {
    "collapsed": false
   },
   "outputs": [],
   "source": [
    "#t = np.zeros(nimgs/10)\n",
    "#v = np.empty_like(t)\n",
    "#for i, j in enumerate(xrange(0, nimgs, 10)):\n",
    "#    v[i] = imvar[j:j+10].var()\n",
    " #   t[i] = i"
   ]
  },
  {
   "cell_type": "code",
   "execution_count": null,
   "metadata": {
    "collapsed": false
   },
   "outputs": [],
   "source": [
    "#t2 = np.arange(750)\n",
    "#figure(figsize = (12, 8))\n",
    "#plot(t2,imvar)\n",
    "#plot(t2[137:149],imvar[137:149], color = 'r')\n",
    "#xlabel('Image number', size = 15)\n",
    "#ylabel('Number of Active Pixels (1s)', size = 15)\n",
    "#title('Time series of active pixels', size = 18)\n",
    "#legend(['no plume', 'plume'])"
   ]
  },
  {
   "cell_type": "code",
   "execution_count": null,
   "metadata": {
    "collapsed": false
   },
   "outputs": [],
   "source": [
    "\n",
    "#figure(figsize = (12, 8))\n",
    "#plot(t2,np.log10(imvar))\n",
    "#plot(t2[137:148],np.log10(imvar[137:148]), color = 'r')\n",
    "#xlabel('Image number', size = 15)\n",
    "#ylabel('Log10 of Number of Active Pixels (1s)', size = 15)\n",
    "#title('Time series of active pixels (Log Scale)', size = 18)\n",
    "#legend(['no plume', 'plume'])"
   ]
  },
  {
   "cell_type": "code",
   "execution_count": null,
   "metadata": {
    "collapsed": false
   },
   "outputs": [],
   "source": [
    "#figure(figsize = (10,8))\n",
    "#plot(t,v)\n",
    "#plot(t[13:16],v[13:16], color = 'r')\n",
    "#xlabel('Image Group Number', size = 15)\n",
    "#ylabel('Variance of Number of Active Pixels (1s)', size = 15)\n",
    "#title('Time series of variance of active pixels', size = 18)\n",
    "#legend(['no plume', 'plume'])"
   ]
  },
  {
   "cell_type": "code",
   "execution_count": null,
   "metadata": {
    "collapsed": false
   },
   "outputs": [],
   "source": [
    "#figure(figsize = (10,8))\n",
    "#plot(t,np.log10(v))\n",
    "#plot(t[14:16],np.log10(v[14:16]), color = 'r')\n",
    "#xlabel('Image Group Number', size = 15)\n",
    "#ylabel('Log of Variance of Number of Active Pixels (1s)', size = 15)\n",
    "#title('Time series of variance of active pixels (Log scale)', size = 18)\n",
    "#legend(['no plume', 'plume'])"
   ]
  }
 ],
 "metadata": {
  "anaconda-cloud": {},
  "kernelspec": {
   "display_name": "JupyterKern",
   "language": "python",
   "name": "jupyterkern"
  },
  "language_info": {
   "codemirror_mode": {
    "name": "ipython",
    "version": 2
   },
   "file_extension": ".py",
   "mimetype": "text/x-python",
   "name": "python",
   "nbconvert_exporter": "python",
   "pygments_lexer": "ipython2",
   "version": "2.7.13"
  }
 },
 "nbformat": 4,
 "nbformat_minor": 0
}
